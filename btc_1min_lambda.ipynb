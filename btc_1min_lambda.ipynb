{
 "cells": [
  {
   "cell_type": "code",
   "execution_count": 10,
   "id": "3125ec8b",
   "metadata": {},
   "outputs": [],
   "source": [
    "import diagrams\n",
    "from diagrams import Cluster, Diagram"
   ]
  },
  {
   "cell_type": "code",
   "execution_count": 14,
   "id": "e481538c",
   "metadata": {},
   "outputs": [],
   "source": [
    "from diagrams.aws.storage import S3\n",
    "from diagrams.aws.compute import Lambda\n",
    "from diagrams.aws.integration import Eventbridge\n",
    "from diagrams.aws.management import Cloudwatch\n",
    "from diagrams.aws.management import CloudwatchEventTimeBased\n",
    "\n",
    "with Diagram(\"Work Flows\", show=True):\n",
    "    with Cluster(\"AWS\"):\n",
    "        Eventbridge(\"EventBridge\") >> Lambda(\"Lambda\") >> S3(\"S3\")"
   ]
  },
  {
   "cell_type": "code",
   "execution_count": null,
   "id": "90159064",
   "metadata": {},
   "outputs": [],
   "source": []
  }
 ],
 "metadata": {
  "kernelspec": {
   "display_name": "Python 3 (ipykernel)",
   "language": "python",
   "name": "python3"
  },
  "language_info": {
   "codemirror_mode": {
    "name": "ipython",
    "version": 3
   },
   "file_extension": ".py",
   "mimetype": "text/x-python",
   "name": "python",
   "nbconvert_exporter": "python",
   "pygments_lexer": "ipython3",
   "version": "3.8.8"
  }
 },
 "nbformat": 4,
 "nbformat_minor": 5
}
